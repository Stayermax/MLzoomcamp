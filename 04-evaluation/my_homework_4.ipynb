{
 "cells": [
  {
   "cell_type": "code",
   "execution_count": 1,
   "id": "2ac41cae-ee0c-44f3-afc2-c1b7eed4b060",
   "metadata": {},
   "outputs": [],
   "source": [
    "# !wget https://archive.ics.uci.edu/static/public/222/bank+marketing.zip"
   ]
  },
  {
   "cell_type": "code",
   "execution_count": 2,
   "id": "5778a5e5-3b2e-4c12-ae6b-2e526d5ee095",
   "metadata": {},
   "outputs": [],
   "source": [
    "# !unzip bank+marketing.zip "
   ]
  },
  {
   "cell_type": "code",
   "execution_count": 3,
   "id": "c2ab753c-57a9-4c5e-b251-85159e829f1b",
   "metadata": {},
   "outputs": [],
   "source": [
    "# !unzip bank.zip"
   ]
  },
  {
   "cell_type": "code",
   "execution_count": 4,
   "id": "b7771d01-4f01-4160-823e-b12362774aa9",
   "metadata": {},
   "outputs": [
    {
     "name": "stdout",
     "output_type": "stream",
     "text": [
      "01-overview.md         09-explore-more.md     \u001b[31mbank.zip\u001b[m\u001b[m\n",
      "02-accuracy.md         README.md              homework.md\n",
      "03-confusion-table.md  bank+marketing.zip     \u001b[34mimages\u001b[m\u001b[m\n",
      "04-precision-recall.md bank+marketing.zip.1   meta.csv\n",
      "05-roc.md              \u001b[31mbank-additional.zip\u001b[m\u001b[m    meta.json\n",
      "06-auc.md              bank-full.csv          my_homework_4.ipynb\n",
      "07-cross-validation.md bank-names.txt         notebook.ipynb\n",
      "08-summary.md          bank.csv\n"
     ]
    }
   ],
   "source": [
    "!ls"
   ]
  },
  {
   "cell_type": "code",
   "execution_count": 45,
   "id": "3e8bf2c4-9ed9-4bb8-9000-c00be0ee9748",
   "metadata": {},
   "outputs": [],
   "source": [
    "import numpy as np\n",
    "import pandas as pd\n",
    "import matplotlib.pyplot as plt\n",
    "\n",
    "np.random.seed(1)"
   ]
  },
  {
   "cell_type": "code",
   "execution_count": 46,
   "id": "b3d7d80e-1255-4bcf-abbe-1de7fb1b23c7",
   "metadata": {},
   "outputs": [
    {
     "data": {
      "text/html": [
       "<div>\n",
       "<style scoped>\n",
       "    .dataframe tbody tr th:only-of-type {\n",
       "        vertical-align: middle;\n",
       "    }\n",
       "\n",
       "    .dataframe tbody tr th {\n",
       "        vertical-align: top;\n",
       "    }\n",
       "\n",
       "    .dataframe thead th {\n",
       "        text-align: right;\n",
       "    }\n",
       "</style>\n",
       "<table border=\"1\" class=\"dataframe\">\n",
       "  <thead>\n",
       "    <tr style=\"text-align: right;\">\n",
       "      <th></th>\n",
       "      <th>age</th>\n",
       "      <th>job</th>\n",
       "      <th>marital</th>\n",
       "      <th>education</th>\n",
       "      <th>default</th>\n",
       "      <th>balance</th>\n",
       "      <th>housing</th>\n",
       "      <th>loan</th>\n",
       "      <th>contact</th>\n",
       "      <th>day</th>\n",
       "      <th>month</th>\n",
       "      <th>duration</th>\n",
       "      <th>campaign</th>\n",
       "      <th>pdays</th>\n",
       "      <th>previous</th>\n",
       "      <th>poutcome</th>\n",
       "      <th>y</th>\n",
       "    </tr>\n",
       "  </thead>\n",
       "  <tbody>\n",
       "    <tr>\n",
       "      <th>0</th>\n",
       "      <td>58</td>\n",
       "      <td>management</td>\n",
       "      <td>married</td>\n",
       "      <td>tertiary</td>\n",
       "      <td>no</td>\n",
       "      <td>2143</td>\n",
       "      <td>yes</td>\n",
       "      <td>no</td>\n",
       "      <td>unknown</td>\n",
       "      <td>5</td>\n",
       "      <td>may</td>\n",
       "      <td>261</td>\n",
       "      <td>1</td>\n",
       "      <td>-1</td>\n",
       "      <td>0</td>\n",
       "      <td>unknown</td>\n",
       "      <td>no</td>\n",
       "    </tr>\n",
       "    <tr>\n",
       "      <th>1</th>\n",
       "      <td>44</td>\n",
       "      <td>technician</td>\n",
       "      <td>single</td>\n",
       "      <td>secondary</td>\n",
       "      <td>no</td>\n",
       "      <td>29</td>\n",
       "      <td>yes</td>\n",
       "      <td>no</td>\n",
       "      <td>unknown</td>\n",
       "      <td>5</td>\n",
       "      <td>may</td>\n",
       "      <td>151</td>\n",
       "      <td>1</td>\n",
       "      <td>-1</td>\n",
       "      <td>0</td>\n",
       "      <td>unknown</td>\n",
       "      <td>no</td>\n",
       "    </tr>\n",
       "    <tr>\n",
       "      <th>2</th>\n",
       "      <td>33</td>\n",
       "      <td>entrepreneur</td>\n",
       "      <td>married</td>\n",
       "      <td>secondary</td>\n",
       "      <td>no</td>\n",
       "      <td>2</td>\n",
       "      <td>yes</td>\n",
       "      <td>yes</td>\n",
       "      <td>unknown</td>\n",
       "      <td>5</td>\n",
       "      <td>may</td>\n",
       "      <td>76</td>\n",
       "      <td>1</td>\n",
       "      <td>-1</td>\n",
       "      <td>0</td>\n",
       "      <td>unknown</td>\n",
       "      <td>no</td>\n",
       "    </tr>\n",
       "    <tr>\n",
       "      <th>3</th>\n",
       "      <td>47</td>\n",
       "      <td>blue-collar</td>\n",
       "      <td>married</td>\n",
       "      <td>unknown</td>\n",
       "      <td>no</td>\n",
       "      <td>1506</td>\n",
       "      <td>yes</td>\n",
       "      <td>no</td>\n",
       "      <td>unknown</td>\n",
       "      <td>5</td>\n",
       "      <td>may</td>\n",
       "      <td>92</td>\n",
       "      <td>1</td>\n",
       "      <td>-1</td>\n",
       "      <td>0</td>\n",
       "      <td>unknown</td>\n",
       "      <td>no</td>\n",
       "    </tr>\n",
       "    <tr>\n",
       "      <th>4</th>\n",
       "      <td>33</td>\n",
       "      <td>unknown</td>\n",
       "      <td>single</td>\n",
       "      <td>unknown</td>\n",
       "      <td>no</td>\n",
       "      <td>1</td>\n",
       "      <td>no</td>\n",
       "      <td>no</td>\n",
       "      <td>unknown</td>\n",
       "      <td>5</td>\n",
       "      <td>may</td>\n",
       "      <td>198</td>\n",
       "      <td>1</td>\n",
       "      <td>-1</td>\n",
       "      <td>0</td>\n",
       "      <td>unknown</td>\n",
       "      <td>no</td>\n",
       "    </tr>\n",
       "  </tbody>\n",
       "</table>\n",
       "</div>"
      ],
      "text/plain": [
       "   age           job  marital  education default  balance housing loan  \\\n",
       "0   58    management  married   tertiary      no     2143     yes   no   \n",
       "1   44    technician   single  secondary      no       29     yes   no   \n",
       "2   33  entrepreneur  married  secondary      no        2     yes  yes   \n",
       "3   47   blue-collar  married    unknown      no     1506     yes   no   \n",
       "4   33       unknown   single    unknown      no        1      no   no   \n",
       "\n",
       "   contact  day month  duration  campaign  pdays  previous poutcome   y  \n",
       "0  unknown    5   may       261         1     -1         0  unknown  no  \n",
       "1  unknown    5   may       151         1     -1         0  unknown  no  \n",
       "2  unknown    5   may        76         1     -1         0  unknown  no  \n",
       "3  unknown    5   may        92         1     -1         0  unknown  no  \n",
       "4  unknown    5   may       198         1     -1         0  unknown  no  "
      ]
     },
     "execution_count": 46,
     "metadata": {},
     "output_type": "execute_result"
    }
   ],
   "source": [
    "df = pd.read_csv('bank-full.csv', delimiter=\";\")\n",
    "df.head()"
   ]
  },
  {
   "cell_type": "markdown",
   "id": "6acc37d9-b587-4bdb-a987-35c73a33e9c1",
   "metadata": {},
   "source": [
    "# EDA and data transformation"
   ]
  },
  {
   "cell_type": "code",
   "execution_count": 47,
   "id": "916c6164-8dc0-4feb-a6ee-558e8ab7716f",
   "metadata": {},
   "outputs": [
    {
     "data": {
      "text/plain": [
       "array([0, 1])"
      ]
     },
     "execution_count": 47,
     "metadata": {},
     "output_type": "execute_result"
    }
   ],
   "source": [
    "df.y = df.y.apply(lambda x: int(x=='yes'))\n",
    "df.y.unique()"
   ]
  },
  {
   "cell_type": "code",
   "execution_count": 48,
   "id": "8336167a-2dfd-43e3-8471-72dab97cb863",
   "metadata": {},
   "outputs": [],
   "source": [
    "columns = [\n",
    "    'age',\n",
    "    'job',\n",
    "    'marital',\n",
    "    'education',\n",
    "    'balance',\n",
    "    'housing',\n",
    "    'contact',\n",
    "    'day',\n",
    "    'month',\n",
    "    'duration',\n",
    "    'campaign',\n",
    "    'pdays',\n",
    "    'previous',\n",
    "    'poutcome',\n",
    "    'y'\n",
    "]\n",
    "df = df[columns]"
   ]
  },
  {
   "cell_type": "code",
   "execution_count": 49,
   "id": "ac91dd07-f8fb-454f-9ebb-66cf9e45f52d",
   "metadata": {},
   "outputs": [
    {
     "data": {
      "text/plain": [
       "['age', 'balance', 'day', 'duration', 'campaign', 'pdays', 'previous', 'y']"
      ]
     },
     "execution_count": 49,
     "metadata": {},
     "output_type": "execute_result"
    }
   ],
   "source": [
    "list(df.dtypes[df.dtypes != 'object'].index)"
   ]
  },
  {
   "cell_type": "code",
   "execution_count": 50,
   "id": "adddba35-e482-4a0b-a069-a23e6edf87fa",
   "metadata": {},
   "outputs": [
    {
     "data": {
      "text/plain": [
       "['age', 'balance', 'day', 'duration', 'campaign', 'pdays', 'previous']"
      ]
     },
     "execution_count": 50,
     "metadata": {},
     "output_type": "execute_result"
    }
   ],
   "source": [
    "numerical_columns = list(df.dtypes[df.dtypes != 'object'].index)\n",
    "numerical_columns.remove('y')\n",
    "numerical_columns"
   ]
  },
  {
   "cell_type": "code",
   "execution_count": 51,
   "id": "803e59d8-4fa0-450d-a0cd-783d6c38a57e",
   "metadata": {},
   "outputs": [
    {
     "data": {
      "text/plain": [
       "['job', 'marital', 'education', 'housing', 'contact', 'month', 'poutcome']"
      ]
     },
     "execution_count": 51,
     "metadata": {},
     "output_type": "execute_result"
    }
   ],
   "source": [
    "categorical_columns =  list(df.dtypes[df.dtypes == 'object'].index)\n",
    "categorical_columns"
   ]
  },
  {
   "cell_type": "code",
   "execution_count": 52,
   "id": "9aa16c41-47ba-409e-9ef2-de5d5e0b4a79",
   "metadata": {},
   "outputs": [],
   "source": [
    "from sklearn.model_selection import train_test_split"
   ]
  },
  {
   "cell_type": "code",
   "execution_count": 53,
   "id": "07120d44-adef-428a-9734-258b8a041a30",
   "metadata": {},
   "outputs": [],
   "source": [
    "df_full_train, df_test = train_test_split(df, test_size=0.2, shuffle=True, random_state=1)"
   ]
  },
  {
   "cell_type": "code",
   "execution_count": 54,
   "id": "157298e6-00e9-4b90-8fac-d82139c0b2b4",
   "metadata": {},
   "outputs": [],
   "source": [
    "df_train, df_val = train_test_split(df_full_train, test_size=0.25, shuffle=True, random_state=1)"
   ]
  },
  {
   "cell_type": "code",
   "execution_count": 55,
   "id": "e03c4898-cda1-4387-a22a-fb1fb34c7888",
   "metadata": {},
   "outputs": [
    {
     "data": {
      "text/plain": [
       "(27126, 9042, 9043)"
      ]
     },
     "execution_count": 55,
     "metadata": {},
     "output_type": "execute_result"
    }
   ],
   "source": [
    "len(df_train), len(df_val), len(df_test)"
   ]
  },
  {
   "cell_type": "code",
   "execution_count": 56,
   "id": "e7514033-c990-442b-8db4-1e453d0bc9f6",
   "metadata": {},
   "outputs": [],
   "source": [
    "y_full_train = df_full_train.y.values\n",
    "y_train = df_train.y.values\n",
    "y_val = df_val.y.values\n",
    "y_test = df_test.y.values"
   ]
  },
  {
   "cell_type": "code",
   "execution_count": 57,
   "id": "41ecae84-176b-4b98-9d95-61685d53173c",
   "metadata": {},
   "outputs": [],
   "source": [
    "del df_full_train['y']\n",
    "del df_train['y']\n",
    "del df_val['y']\n",
    "del df_test['y']"
   ]
  },
  {
   "cell_type": "markdown",
   "id": "3ffe659a-0913-4b7f-ae66-6ead46fe4c72",
   "metadata": {},
   "source": [
    "# Question 1"
   ]
  },
  {
   "cell_type": "code",
   "execution_count": 58,
   "id": "a9074d2d-1c9c-4d4c-a509-08fe79d4be4f",
   "metadata": {},
   "outputs": [],
   "source": [
    "from sklearn.linear_model import LogisticRegression\n",
    "from sklearn.feature_extraction import DictVectorizer\n",
    "from sklearn.metrics import roc_auc_score, roc_curve, auc"
   ]
  },
  {
   "cell_type": "code",
   "execution_count": 59,
   "id": "e6716c1b-d3d8-4ede-8e47-528b71c1f5af",
   "metadata": {},
   "outputs": [],
   "source": [
    "checked_columns = [\n",
    "    \"balance\",\n",
    "    \"day\",\n",
    "    \"duration\",\n",
    "    \"previous\"\n",
    "]"
   ]
  },
  {
   "cell_type": "code",
   "execution_count": 60,
   "id": "0603b314-3eed-4005-a615-31dfc79bee06",
   "metadata": {},
   "outputs": [
    {
     "name": "stdout",
     "output_type": "stream",
     "text": [
      "balance: 0.589\n",
      "day: 0.474\n",
      "duration: 0.815\n",
      "previous: 0.599\n"
     ]
    }
   ],
   "source": [
    "for col in checked_columns:\n",
    "    score = roc_auc_score(y_train, df_train[col]).round(3)\n",
    "    print(f\"{col}: {score}\")"
   ]
  },
  {
   "cell_type": "code",
   "execution_count": 61,
   "id": "35336170-d87d-4a41-9d1a-bb453ba08805",
   "metadata": {},
   "outputs": [
    {
     "data": {
      "image/png": "[encoded data removed]",
      "text/plain": [
       "<Figure size 640x480 with 1 Axes>"
      ]
     },
     "metadata": {},
     "output_type": "display_data"
    }
   ],
   "source": [
    "for col in checked_columns:\n",
    "    fpr, tpr, threshold = roc_curve(y_train, df_train[col])\n",
    "    plt.plot(fpr, tpr, label=col)\n",
    "    plt.xlabel('FPR')\n",
    "    plt.ylabel('TPR')\n",
    "    plt.legend()"
   ]
  },
  {
   "cell_type": "markdown",
   "id": "b82d3e1d-4e50-4aff-83b0-be748fef9736",
   "metadata": {},
   "source": [
    "### Question 1 answer: duration has the highest auc score"
   ]
  },
  {
   "cell_type": "markdown",
   "id": "d1e378bd-62c7-4d16-b3a9-7535c7fad558",
   "metadata": {},
   "source": [
    "# Question 2"
   ]
  },
  {
   "cell_type": "code",
   "execution_count": 62,
   "id": "0699ee16-5136-496e-b323-ea2e5ee7ccb8",
   "metadata": {},
   "outputs": [],
   "source": [
    "def train(df, y, C=1.0):\n",
    "    dicts = df.to_dict(orient='records')\n",
    "    \n",
    "    dv = DictVectorizer(sparse=False)\n",
    "    X_train = dv.fit_transform(dicts)\n",
    "\n",
    "    model = LogisticRegression(solver='liblinear', C=C, max_iter=1000)\n",
    "    model.fit(X_train, y_train)\n",
    "    \n",
    "    return dv, model"
   ]
  },
  {
   "cell_type": "code",
   "execution_count": 63,
   "id": "2a7fb693-12a2-4520-8782-8c34bb0a59c5",
   "metadata": {},
   "outputs": [],
   "source": [
    "def predict(dv, model, df):\n",
    "    dicts = df.to_dict(orient='records')\n",
    "\n",
    "    X = dv.transform(dicts)\n",
    "    \n",
    "    y_pred = model.predict_proba(X)[:, 1]\n",
    "    return y_pred "
   ]
  },
  {
   "cell_type": "code",
   "execution_count": 68,
   "id": "e5b26ddd-f4b4-42e6-aed4-71d278b43115",
   "metadata": {},
   "outputs": [
    {
     "data": {
      "text/plain": [
       "np.float64(0.90029099)"
      ]
     },
     "execution_count": 68,
     "metadata": {},
     "output_type": "execute_result"
    }
   ],
   "source": [
    "dv, model = train(df_train[numerical_columns + categorical_columns], y_train, C=1.0)\n",
    "y_pred = predict(dv, model, df_val[numerical_columns + categorical_columns])\n",
    "score = roc_auc_score(y_val, y_pred).round(8)\n",
    "score"
   ]
  },
  {
   "cell_type": "markdown",
   "id": "48cedbbb-ee33-4178-93b8-d4cf80e4969c",
   "metadata": {},
   "source": [
    "### Question 2 answer: 0.9 (0.89 is the closest one)"
   ]
  },
  {
   "cell_type": "markdown",
   "id": "e594b6d0-c2f2-45c0-8f71-4d1f9e9de9d8",
   "metadata": {},
   "source": [
    "# Question 3"
   ]
  },
  {
   "cell_type": "code",
   "execution_count": 119,
   "id": "be14a68a-d5cb-4206-8f6c-507792c467bc",
   "metadata": {},
   "outputs": [
    {
     "data": {
      "text/plain": [
       "array([0.  , 0.01, 0.02, 0.03, 0.04, 0.05, 0.06, 0.07, 0.08, 0.09, 0.1 ,\n",
       "       0.11, 0.12, 0.13, 0.14, 0.15, 0.16, 0.17, 0.18, 0.19, 0.2 , 0.21,\n",
       "       0.22, 0.23, 0.24, 0.25, 0.26, 0.27, 0.28, 0.29, 0.3 , 0.31, 0.32,\n",
       "       0.33, 0.34, 0.35, 0.36, 0.37, 0.38, 0.39, 0.4 , 0.41, 0.42, 0.43,\n",
       "       0.44, 0.45, 0.46, 0.47, 0.48, 0.49, 0.5 , 0.51, 0.52, 0.53, 0.54,\n",
       "       0.55, 0.56, 0.57, 0.58, 0.59, 0.6 , 0.61, 0.62, 0.63, 0.64, 0.65,\n",
       "       0.66, 0.67, 0.68, 0.69, 0.7 , 0.71, 0.72, 0.73, 0.74, 0.75, 0.76,\n",
       "       0.77, 0.78, 0.79, 0.8 , 0.81, 0.82, 0.83, 0.84, 0.85, 0.86, 0.87,\n",
       "       0.88, 0.89, 0.9 , 0.91, 0.92, 0.93, 0.94, 0.95, 0.96, 0.97, 0.98,\n",
       "       0.99, 1.  ])"
      ]
     },
     "execution_count": 119,
     "metadata": {},
     "output_type": "execute_result"
    }
   ],
   "source": [
    "thresholds = np.linspace(0, 1, 101)\n",
    "thresholds"
   ]
  },
  {
   "cell_type": "code",
   "execution_count": 120,
   "id": "e5210eaf-8eae-48f6-ab07-3919dcec298c",
   "metadata": {},
   "outputs": [],
   "source": [
    "from sklearn.metrics import recall_score, precision_score"
   ]
  },
  {
   "cell_type": "code",
   "execution_count": 121,
   "id": "ac1c8c90-1d4d-4e65-87f9-043d2f82eac1",
   "metadata": {},
   "outputs": [
    {
     "name": "stderr",
     "output_type": "stream",
     "text": [
      "/Users/vpankrat/opt/anaconda3/envs/MLzoomcamp/lib/python3.11/site-packages/sklearn/metrics/_classification.py:1531: UndefinedMetricWarning: Precision is ill-defined and being set to 0.0 due to no predicted samples. Use `zero_division` parameter to control this behavior.\n",
      "  _warn_prf(average, modifier, f\"{metric.capitalize()} is\", len(result))\n"
     ]
    },
    {
     "data": {
      "text/html": [
       "<div>\n",
       "<style scoped>\n",
       "    .dataframe tbody tr th:only-of-type {\n",
       "        vertical-align: middle;\n",
       "    }\n",
       "\n",
       "    .dataframe tbody tr th {\n",
       "        vertical-align: top;\n",
       "    }\n",
       "\n",
       "    .dataframe thead th {\n",
       "        text-align: right;\n",
       "    }\n",
       "</style>\n",
       "<table border=\"1\" class=\"dataframe\">\n",
       "  <thead>\n",
       "    <tr style=\"text-align: right;\">\n",
       "      <th></th>\n",
       "      <th>recall</th>\n",
       "      <th>precision</th>\n",
       "    </tr>\n",
       "    <tr>\n",
       "      <th>threshold</th>\n",
       "      <th></th>\n",
       "      <th></th>\n",
       "    </tr>\n",
       "  </thead>\n",
       "  <tbody>\n",
       "    <tr>\n",
       "      <th>0.00</th>\n",
       "      <td>1.000000</td>\n",
       "      <td>0.121433</td>\n",
       "    </tr>\n",
       "    <tr>\n",
       "      <th>0.01</th>\n",
       "      <td>0.996357</td>\n",
       "      <td>0.135212</td>\n",
       "    </tr>\n",
       "    <tr>\n",
       "      <th>0.02</th>\n",
       "      <td>0.995446</td>\n",
       "      <td>0.158912</td>\n",
       "    </tr>\n",
       "    <tr>\n",
       "      <th>0.03</th>\n",
       "      <td>0.989982</td>\n",
       "      <td>0.186417</td>\n",
       "    </tr>\n",
       "    <tr>\n",
       "      <th>0.04</th>\n",
       "      <td>0.973588</td>\n",
       "      <td>0.219688</td>\n",
       "    </tr>\n",
       "    <tr>\n",
       "      <th>...</th>\n",
       "      <td>...</td>\n",
       "      <td>...</td>\n",
       "    </tr>\n",
       "    <tr>\n",
       "      <th>0.96</th>\n",
       "      <td>0.027322</td>\n",
       "      <td>0.638298</td>\n",
       "    </tr>\n",
       "    <tr>\n",
       "      <th>0.97</th>\n",
       "      <td>0.022769</td>\n",
       "      <td>0.625000</td>\n",
       "    </tr>\n",
       "    <tr>\n",
       "      <th>0.98</th>\n",
       "      <td>0.019126</td>\n",
       "      <td>0.677419</td>\n",
       "    </tr>\n",
       "    <tr>\n",
       "      <th>0.99</th>\n",
       "      <td>0.010018</td>\n",
       "      <td>0.687500</td>\n",
       "    </tr>\n",
       "    <tr>\n",
       "      <th>1.00</th>\n",
       "      <td>0.000000</td>\n",
       "      <td>0.000000</td>\n",
       "    </tr>\n",
       "  </tbody>\n",
       "</table>\n",
       "<p>101 rows × 2 columns</p>\n",
       "</div>"
      ],
      "text/plain": [
       "             recall  precision\n",
       "threshold                     \n",
       "0.00       1.000000   0.121433\n",
       "0.01       0.996357   0.135212\n",
       "0.02       0.995446   0.158912\n",
       "0.03       0.989982   0.186417\n",
       "0.04       0.973588   0.219688\n",
       "...             ...        ...\n",
       "0.96       0.027322   0.638298\n",
       "0.97       0.022769   0.625000\n",
       "0.98       0.019126   0.677419\n",
       "0.99       0.010018   0.687500\n",
       "1.00       0.000000   0.000000\n",
       "\n",
       "[101 rows x 2 columns]"
      ]
     },
     "execution_count": 121,
     "metadata": {},
     "output_type": "execute_result"
    }
   ],
   "source": [
    "scores = []\n",
    "for threshold in thresholds:\n",
    "    scores.append(\n",
    "        {\n",
    "            'threshold': threshold,\n",
    "            'recall': recall_score(y_val, y_pred >= threshold),\n",
    "            'precision': precision_score(y_val, y_pred >= threshold)\n",
    "        }\n",
    "    )\n",
    "scores_df = pd.DataFrame(scores).set_index('threshold')\n",
    "scores_df"
   ]
  },
  {
   "cell_type": "code",
   "execution_count": 122,
   "id": "115d9e7c-60ec-4411-abab-38b99df29720",
   "metadata": {},
   "outputs": [
    {
     "data": {
      "text/plain": [
       "<matplotlib.legend.Legend at 0x1830526d0>"
      ]
     },
     "execution_count": 122,
     "metadata": {},
     "output_type": "execute_result"
    },
    {
     "data": {
      "image/png": "[encoded data removed]",
      "text/plain": [
       "<Figure size 640x480 with 1 Axes>"
      ]
     },
     "metadata": {},
     "output_type": "display_data"
    }
   ],
   "source": [
    "plt.plot(scores_df['recall'], label = 'recall')\n",
    "plt.plot(scores_df['precision'], label = 'precision')\n",
    "plt.legend()"
   ]
  },
  {
   "cell_type": "code",
   "execution_count": 123,
   "id": "a89b524a-b19d-44fe-b30f-d21e15c5f4d1",
   "metadata": {},
   "outputs": [
    {
     "data": {
      "text/plain": [
       "Counter({np.False_: 9026, np.True_: 16})"
      ]
     },
     "execution_count": 123,
     "metadata": {},
     "output_type": "execute_result"
    }
   ],
   "source": [
    "from collections import Counter\n",
    "Counter(y_pred >= 0.99)"
   ]
  },
  {
   "cell_type": "code",
   "execution_count": 124,
   "id": "04b65c19-a68b-4406-a785-7b0f98a69120",
   "metadata": {},
   "outputs": [
    {
     "name": "stdout",
     "output_type": "stream",
     "text": [
      "last_before_cross: 0.26\n",
      "first_after_cross: 0.27\n",
      "crossing: 0.265\n"
     ]
    }
   ],
   "source": [
    "last_before_cross = scores_df[scores_df.precision<scores_df.recall].reset_index().iloc[-1]['threshold']\n",
    "first_after_cross = scores_df[scores_df.precision>=scores_df.recall].reset_index().iloc[0]['threshold']\n",
    "print(f\"last_before_cross: {last_before_cross}\")\n",
    "print(f\"first_after_cross: {first_after_cross}\")\n",
    "print(f\"crossing: {(last_before_cross + first_after_cross) /2 }\")"
   ]
  },
  {
   "cell_type": "markdown",
   "id": "6f0fab15-de57-4914-9840-0a369c99923c",
   "metadata": {},
   "source": [
    "### Question 3 answer: 0.265"
   ]
  },
  {
   "cell_type": "markdown",
   "id": "380be3d0-2dec-45eb-af87-4568377f9176",
   "metadata": {},
   "source": [
    "# Question 4"
   ]
  },
  {
   "cell_type": "code",
   "execution_count": 125,
   "id": "d1c5665d-7a74-4358-b089-c7b4efd042d6",
   "metadata": {},
   "outputs": [
    {
     "data": {
      "text/html": [
       "<div>\n",
       "<style scoped>\n",
       "    .dataframe tbody tr th:only-of-type {\n",
       "        vertical-align: middle;\n",
       "    }\n",
       "\n",
       "    .dataframe tbody tr th {\n",
       "        vertical-align: top;\n",
       "    }\n",
       "\n",
       "    .dataframe thead th {\n",
       "        text-align: right;\n",
       "    }\n",
       "</style>\n",
       "<table border=\"1\" class=\"dataframe\">\n",
       "  <thead>\n",
       "    <tr style=\"text-align: right;\">\n",
       "      <th></th>\n",
       "      <th>recall</th>\n",
       "      <th>precision</th>\n",
       "      <th>f1-score</th>\n",
       "    </tr>\n",
       "    <tr>\n",
       "      <th>threshold</th>\n",
       "      <th></th>\n",
       "      <th></th>\n",
       "      <th></th>\n",
       "    </tr>\n",
       "  </thead>\n",
       "  <tbody>\n",
       "    <tr>\n",
       "      <th>0.00</th>\n",
       "      <td>1.000000</td>\n",
       "      <td>0.121433</td>\n",
       "      <td>0.216568</td>\n",
       "    </tr>\n",
       "    <tr>\n",
       "      <th>0.01</th>\n",
       "      <td>0.996357</td>\n",
       "      <td>0.135212</td>\n",
       "      <td>0.238111</td>\n",
       "    </tr>\n",
       "    <tr>\n",
       "      <th>0.02</th>\n",
       "      <td>0.995446</td>\n",
       "      <td>0.158912</td>\n",
       "      <td>0.274072</td>\n",
       "    </tr>\n",
       "    <tr>\n",
       "      <th>0.03</th>\n",
       "      <td>0.989982</td>\n",
       "      <td>0.186417</td>\n",
       "      <td>0.313754</td>\n",
       "    </tr>\n",
       "    <tr>\n",
       "      <th>0.04</th>\n",
       "      <td>0.973588</td>\n",
       "      <td>0.219688</td>\n",
       "      <td>0.358484</td>\n",
       "    </tr>\n",
       "    <tr>\n",
       "      <th>...</th>\n",
       "      <td>...</td>\n",
       "      <td>...</td>\n",
       "      <td>...</td>\n",
       "    </tr>\n",
       "    <tr>\n",
       "      <th>0.96</th>\n",
       "      <td>0.027322</td>\n",
       "      <td>0.638298</td>\n",
       "      <td>0.052402</td>\n",
       "    </tr>\n",
       "    <tr>\n",
       "      <th>0.97</th>\n",
       "      <td>0.022769</td>\n",
       "      <td>0.625000</td>\n",
       "      <td>0.043937</td>\n",
       "    </tr>\n",
       "    <tr>\n",
       "      <th>0.98</th>\n",
       "      <td>0.019126</td>\n",
       "      <td>0.677419</td>\n",
       "      <td>0.037201</td>\n",
       "    </tr>\n",
       "    <tr>\n",
       "      <th>0.99</th>\n",
       "      <td>0.010018</td>\n",
       "      <td>0.687500</td>\n",
       "      <td>0.019749</td>\n",
       "    </tr>\n",
       "    <tr>\n",
       "      <th>1.00</th>\n",
       "      <td>0.000000</td>\n",
       "      <td>0.000000</td>\n",
       "      <td>NaN</td>\n",
       "    </tr>\n",
       "  </tbody>\n",
       "</table>\n",
       "<p>101 rows × 3 columns</p>\n",
       "</div>"
      ],
      "text/plain": [
       "             recall  precision  f1-score\n",
       "threshold                               \n",
       "0.00       1.000000   0.121433  0.216568\n",
       "0.01       0.996357   0.135212  0.238111\n",
       "0.02       0.995446   0.158912  0.274072\n",
       "0.03       0.989982   0.186417  0.313754\n",
       "0.04       0.973588   0.219688  0.358484\n",
       "...             ...        ...       ...\n",
       "0.96       0.027322   0.638298  0.052402\n",
       "0.97       0.022769   0.625000  0.043937\n",
       "0.98       0.019126   0.677419  0.037201\n",
       "0.99       0.010018   0.687500  0.019749\n",
       "1.00       0.000000   0.000000       NaN\n",
       "\n",
       "[101 rows x 3 columns]"
      ]
     },
     "execution_count": 125,
     "metadata": {},
     "output_type": "execute_result"
    }
   ],
   "source": [
    "scores_df[\"f1-score\"] = 2*scores_df.recall*scores_df.precision/(scores_df.recall+scores_df.precision)\n",
    "scores_df"
   ]
  },
  {
   "cell_type": "markdown",
   "id": "f66b00a5-2ffe-4156-9960-9b368f163838",
   "metadata": {},
   "source": [
    "#### Let's check that we calculated f1-score correctly"
   ]
  },
  {
   "cell_type": "code",
   "execution_count": 126,
   "id": "e1e7f015-4b2b-4776-8a39-df3909aae4f1",
   "metadata": {},
   "outputs": [],
   "source": [
    "from sklearn.metrics import f1_score"
   ]
  },
  {
   "cell_type": "code",
   "execution_count": 127,
   "id": "28d9e64f-32c0-4c36-9f93-497fc5bfcb13",
   "metadata": {},
   "outputs": [
    {
     "data": {
      "text/plain": [
       "np.float64(-0.0)"
      ]
     },
     "execution_count": 127,
     "metadata": {},
     "output_type": "execute_result"
    }
   ],
   "source": [
    "f1_scores = np.array([f1_score(y_val, y_pred >= t) for t in thresholds])\n",
    "np.mean(f1_scores - scores_df['f1-score']).round(10)"
   ]
  },
  {
   "cell_type": "code",
   "execution_count": 128,
   "id": "483ddb3b-0199-4a00-90f0-cc434f579b66",
   "metadata": {},
   "outputs": [
    {
     "name": "stdout",
     "output_type": "stream",
     "text": [
      "recall       0.00\n",
      "precision    0.90\n",
      "f1-score     0.22\n",
      "dtype: float64\n"
     ]
    }
   ],
   "source": [
    "print(scores_df.idxmax())"
   ]
  },
  {
   "cell_type": "code",
   "execution_count": 129,
   "id": "7763c7af-2d2c-4787-a7ef-35cad01aff63",
   "metadata": {},
   "outputs": [
    {
     "data": {
      "text/plain": [
       "<matplotlib.legend.Legend at 0x1847b3f50>"
      ]
     },
     "execution_count": 129,
     "metadata": {},
     "output_type": "execute_result"
    },
    {
     "data": {
      "image/png": "[encoded data removed]",
      "text/plain": [
       "<Figure size 640x480 with 1 Axes>"
      ]
     },
     "metadata": {},
     "output_type": "display_data"
    }
   ],
   "source": [
    "plt.plot(scores_df['recall'], label = 'recall')\n",
    "plt.plot(scores_df['precision'], label = 'precision')\n",
    "plt.plot(scores_df['f1-score'], label = 'f1-score')\n",
    "plt.legend()"
   ]
  },
  {
   "cell_type": "markdown",
   "id": "b83d8555-8803-48e5-8882-193701f2ad46",
   "metadata": {},
   "source": [
    "### Question 4 answer: Maximal f1 score is reached when threshold = 0.22"
   ]
  },
  {
   "cell_type": "markdown",
   "id": "94c595a7-973d-477a-b819-14259590648b",
   "metadata": {},
   "source": [
    "# Question 5"
   ]
  },
  {
   "cell_type": "code",
   "execution_count": null,
   "id": "877e189f-4994-42aa-b980-b5335f96c647",
   "metadata": {},
   "outputs": [],
   "source": []
  }
 ],
 "metadata": {
  "kernelspec": {
   "display_name": "MLzoomcamp",
   "language": "python",
   "name": "mlzoomcamp"
  },
  "language_info": {
   "codemirror_mode": {
    "name": "ipython",
    "version": 3
   },
   "file_extension": ".py",
   "mimetype": "text/x-python",
   "name": "python",
   "nbconvert_exporter": "python",
   "pygments_lexer": "ipython3",
   "version": "3.11.10"
  }
 },
 "nbformat": 4,
 "nbformat_minor": 5
}
