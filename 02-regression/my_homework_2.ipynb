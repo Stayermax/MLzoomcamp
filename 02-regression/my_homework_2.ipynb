{
 "cells": [
  {
   "cell_type": "code",
   "execution_count": 1,
   "id": "9481d083-4cd4-499e-9f0c-b797d6393ac2",
   "metadata": {},
   "outputs": [],
   "source": [
    "# !wget https://raw.githubusercontent.com/alexeygrigorev/datasets/master/laptops.csv"
   ]
  },
  {
   "cell_type": "code",
   "execution_count": 33,
   "id": "b2a51cfd-0e94-410d-bd76-2d6e9ae9daf7",
   "metadata": {},
   "outputs": [],
   "source": [
    "import pandas as pd\n",
    "import numpy as np\n",
    "import seaborn as sns"
   ]
  },
  {
   "cell_type": "code",
   "execution_count": 34,
   "id": "b4943dba-287f-47de-bf47-220610eef203",
   "metadata": {},
   "outputs": [
    {
     "data": {
      "text/html": [
       "<div>\n",
       "<style scoped>\n",
       "    .dataframe tbody tr th:only-of-type {\n",
       "        vertical-align: middle;\n",
       "    }\n",
       "\n",
       "    .dataframe tbody tr th {\n",
       "        vertical-align: top;\n",
       "    }\n",
       "\n",
       "    .dataframe thead th {\n",
       "        text-align: right;\n",
       "    }\n",
       "</style>\n",
       "<table border=\"1\" class=\"dataframe\">\n",
       "  <thead>\n",
       "    <tr style=\"text-align: right;\">\n",
       "      <th></th>\n",
       "      <th>Laptop</th>\n",
       "      <th>Status</th>\n",
       "      <th>Brand</th>\n",
       "      <th>Model</th>\n",
       "      <th>CPU</th>\n",
       "      <th>RAM</th>\n",
       "      <th>Storage</th>\n",
       "      <th>Storage type</th>\n",
       "      <th>GPU</th>\n",
       "      <th>Screen</th>\n",
       "      <th>Touch</th>\n",
       "      <th>Final Price</th>\n",
       "    </tr>\n",
       "  </thead>\n",
       "  <tbody>\n",
       "    <tr>\n",
       "      <th>0</th>\n",
       "      <td>ASUS ExpertBook B1 B1502CBA-EJ0436X Intel Core...</td>\n",
       "      <td>New</td>\n",
       "      <td>Asus</td>\n",
       "      <td>ExpertBook</td>\n",
       "      <td>Intel Core i5</td>\n",
       "      <td>8</td>\n",
       "      <td>512</td>\n",
       "      <td>SSD</td>\n",
       "      <td>NaN</td>\n",
       "      <td>15.6</td>\n",
       "      <td>No</td>\n",
       "      <td>1009.00</td>\n",
       "    </tr>\n",
       "    <tr>\n",
       "      <th>1</th>\n",
       "      <td>Alurin Go Start Intel Celeron N4020/8GB/256GB ...</td>\n",
       "      <td>New</td>\n",
       "      <td>Alurin</td>\n",
       "      <td>Go</td>\n",
       "      <td>Intel Celeron</td>\n",
       "      <td>8</td>\n",
       "      <td>256</td>\n",
       "      <td>SSD</td>\n",
       "      <td>NaN</td>\n",
       "      <td>15.6</td>\n",
       "      <td>No</td>\n",
       "      <td>299.00</td>\n",
       "    </tr>\n",
       "    <tr>\n",
       "      <th>2</th>\n",
       "      <td>ASUS ExpertBook B1 B1502CBA-EJ0424X Intel Core...</td>\n",
       "      <td>New</td>\n",
       "      <td>Asus</td>\n",
       "      <td>ExpertBook</td>\n",
       "      <td>Intel Core i3</td>\n",
       "      <td>8</td>\n",
       "      <td>256</td>\n",
       "      <td>SSD</td>\n",
       "      <td>NaN</td>\n",
       "      <td>15.6</td>\n",
       "      <td>No</td>\n",
       "      <td>789.00</td>\n",
       "    </tr>\n",
       "    <tr>\n",
       "      <th>3</th>\n",
       "      <td>MSI Katana GF66 12UC-082XES Intel Core i7-1270...</td>\n",
       "      <td>New</td>\n",
       "      <td>MSI</td>\n",
       "      <td>Katana</td>\n",
       "      <td>Intel Core i7</td>\n",
       "      <td>16</td>\n",
       "      <td>1000</td>\n",
       "      <td>SSD</td>\n",
       "      <td>RTX 3050</td>\n",
       "      <td>15.6</td>\n",
       "      <td>No</td>\n",
       "      <td>1199.00</td>\n",
       "    </tr>\n",
       "    <tr>\n",
       "      <th>4</th>\n",
       "      <td>HP 15S-FQ5085NS Intel Core i5-1235U/16GB/512GB...</td>\n",
       "      <td>New</td>\n",
       "      <td>HP</td>\n",
       "      <td>15S</td>\n",
       "      <td>Intel Core i5</td>\n",
       "      <td>16</td>\n",
       "      <td>512</td>\n",
       "      <td>SSD</td>\n",
       "      <td>NaN</td>\n",
       "      <td>15.6</td>\n",
       "      <td>No</td>\n",
       "      <td>669.01</td>\n",
       "    </tr>\n",
       "  </tbody>\n",
       "</table>\n",
       "</div>"
      ],
      "text/plain": [
       "                                              Laptop Status   Brand  \\\n",
       "0  ASUS ExpertBook B1 B1502CBA-EJ0436X Intel Core...    New    Asus   \n",
       "1  Alurin Go Start Intel Celeron N4020/8GB/256GB ...    New  Alurin   \n",
       "2  ASUS ExpertBook B1 B1502CBA-EJ0424X Intel Core...    New    Asus   \n",
       "3  MSI Katana GF66 12UC-082XES Intel Core i7-1270...    New     MSI   \n",
       "4  HP 15S-FQ5085NS Intel Core i5-1235U/16GB/512GB...    New      HP   \n",
       "\n",
       "        Model            CPU  RAM  Storage Storage type       GPU  Screen  \\\n",
       "0  ExpertBook  Intel Core i5    8      512          SSD       NaN    15.6   \n",
       "1          Go  Intel Celeron    8      256          SSD       NaN    15.6   \n",
       "2  ExpertBook  Intel Core i3    8      256          SSD       NaN    15.6   \n",
       "3      Katana  Intel Core i7   16     1000          SSD  RTX 3050    15.6   \n",
       "4         15S  Intel Core i5   16      512          SSD       NaN    15.6   \n",
       "\n",
       "  Touch  Final Price  \n",
       "0    No      1009.00  \n",
       "1    No       299.00  \n",
       "2    No       789.00  \n",
       "3    No      1199.00  \n",
       "4    No       669.01  "
      ]
     },
     "execution_count": 34,
     "metadata": {},
     "output_type": "execute_result"
    }
   ],
   "source": [
    "big_df = pd.read_csv('laptops.csv')\n",
    "big_df.head()"
   ]
  },
  {
   "cell_type": "code",
   "execution_count": 35,
   "id": "5eae94af-9ae1-4379-a643-f3c4ebd82bda",
   "metadata": {},
   "outputs": [
    {
     "data": {
      "text/plain": [
       "['laptop',\n",
       " 'status',\n",
       " 'brand',\n",
       " 'model',\n",
       " 'cpu',\n",
       " 'ram',\n",
       " 'storage',\n",
       " 'storage_type',\n",
       " 'gpu',\n",
       " 'screen',\n",
       " 'touch',\n",
       " 'final_price']"
      ]
     },
     "execution_count": 35,
     "metadata": {},
     "output_type": "execute_result"
    }
   ],
   "source": [
    "big_df.columns = big_df.columns.str.lower().str.replace(' ', '_')\n",
    "list(big_df.columns)"
   ]
  },
  {
   "cell_type": "code",
   "execution_count": 36,
   "id": "f6202327-f5e8-421b-b3d5-e0de18c4457e",
   "metadata": {},
   "outputs": [
    {
     "data": {
      "text/html": [
       "<div>\n",
       "<style scoped>\n",
       "    .dataframe tbody tr th:only-of-type {\n",
       "        vertical-align: middle;\n",
       "    }\n",
       "\n",
       "    .dataframe tbody tr th {\n",
       "        vertical-align: top;\n",
       "    }\n",
       "\n",
       "    .dataframe thead th {\n",
       "        text-align: right;\n",
       "    }\n",
       "</style>\n",
       "<table border=\"1\" class=\"dataframe\">\n",
       "  <thead>\n",
       "    <tr style=\"text-align: right;\">\n",
       "      <th></th>\n",
       "      <th>ram</th>\n",
       "      <th>storage</th>\n",
       "      <th>screen</th>\n",
       "      <th>final_price</th>\n",
       "    </tr>\n",
       "  </thead>\n",
       "  <tbody>\n",
       "    <tr>\n",
       "      <th>0</th>\n",
       "      <td>8</td>\n",
       "      <td>512</td>\n",
       "      <td>15.6</td>\n",
       "      <td>1009.00</td>\n",
       "    </tr>\n",
       "    <tr>\n",
       "      <th>1</th>\n",
       "      <td>8</td>\n",
       "      <td>256</td>\n",
       "      <td>15.6</td>\n",
       "      <td>299.00</td>\n",
       "    </tr>\n",
       "    <tr>\n",
       "      <th>2</th>\n",
       "      <td>8</td>\n",
       "      <td>256</td>\n",
       "      <td>15.6</td>\n",
       "      <td>789.00</td>\n",
       "    </tr>\n",
       "    <tr>\n",
       "      <th>3</th>\n",
       "      <td>16</td>\n",
       "      <td>1000</td>\n",
       "      <td>15.6</td>\n",
       "      <td>1199.00</td>\n",
       "    </tr>\n",
       "    <tr>\n",
       "      <th>4</th>\n",
       "      <td>16</td>\n",
       "      <td>512</td>\n",
       "      <td>15.6</td>\n",
       "      <td>669.01</td>\n",
       "    </tr>\n",
       "  </tbody>\n",
       "</table>\n",
       "</div>"
      ],
      "text/plain": [
       "   ram  storage  screen  final_price\n",
       "0    8      512    15.6      1009.00\n",
       "1    8      256    15.6       299.00\n",
       "2    8      256    15.6       789.00\n",
       "3   16     1000    15.6      1199.00\n",
       "4   16      512    15.6       669.01"
      ]
     },
     "execution_count": 36,
     "metadata": {},
     "output_type": "execute_result"
    }
   ],
   "source": [
    "used_column = ['ram', 'storage', 'screen', 'final_price']\n",
    "df = big_df[used_column]\n",
    "df.head()"
   ]
  },
  {
   "cell_type": "code",
   "execution_count": 37,
   "id": "337abc35-81df-47ef-9c52-f99e8c8292c7",
   "metadata": {},
   "outputs": [
    {
     "data": {
      "text/plain": [
       "<Axes: xlabel='final_price', ylabel='Count'>"
      ]
     },
     "execution_count": 37,
     "metadata": {},
     "output_type": "execute_result"
    },
    {
     "data": {
      "image/png": "[encoded data removed]",
      "text/plain": [
       "<Figure size 640x480 with 1 Axes>"
      ]
     },
     "metadata": {},
     "output_type": "display_data"
    }
   ],
   "source": [
    "sns.histplot(df['final_price'], bins=50)"
   ]
  },
  {
   "cell_type": "markdown",
   "id": "e7deb951-7976-424c-8cf7-4fbcb218fc7c",
   "metadata": {},
   "source": [
    "We see that final price tail is not that long, since most of the values are around 0 - 4000, and the last outlier is only in ~7000 values"
   ]
  },
  {
   "cell_type": "markdown",
   "id": "249d6920-5a2d-4e5a-bba5-2145b66ac32b",
   "metadata": {},
   "source": [
    "### Counting missing values"
   ]
  },
  {
   "cell_type": "code",
   "execution_count": 38,
   "id": "1563c6b6-7c52-4d0f-8095-064e25353367",
   "metadata": {},
   "outputs": [
    {
     "data": {
      "text/plain": [
       "ram            0\n",
       "storage        0\n",
       "screen         4\n",
       "final_price    0\n",
       "dtype: int64"
      ]
     },
     "execution_count": 38,
     "metadata": {},
     "output_type": "execute_result"
    }
   ],
   "source": [
    "missing_values = df.isnull().sum(axis = 0)\n",
    "missing_values"
   ]
  },
  {
   "cell_type": "markdown",
   "id": "34f7b1bf-776f-4d18-a395-cc2002345ca1",
   "metadata": {},
   "source": [
    "#### Qustion 1: Screen column has missing values"
   ]
  },
  {
   "cell_type": "code",
   "execution_count": 39,
   "id": "bb948987-5623-401a-b857-c39495b2a646",
   "metadata": {},
   "outputs": [
    {
     "data": {
      "text/plain": [
       "ram              16.000\n",
       "storage         512.000\n",
       "screen           15.600\n",
       "final_price    1031.945\n",
       "dtype: float64"
      ]
     },
     "execution_count": 39,
     "metadata": {},
     "output_type": "execute_result"
    }
   ],
   "source": [
    "df.median()"
   ]
  },
  {
   "cell_type": "markdown",
   "id": "99d9108e-c5bb-48e1-b96d-15e746ff7663",
   "metadata": {},
   "source": [
    "#### Qustion 2: Ram column has median of 16"
   ]
  },
  {
   "cell_type": "code",
   "execution_count": 40,
   "id": "f07aeb88-6052-4f41-8dcf-61e037735528",
   "metadata": {},
   "outputs": [],
   "source": [
    "np.random.seed(42) "
   ]
  },
  {
   "cell_type": "markdown",
   "id": "50578243-e6eb-4192-9388-990ffef9aa31",
   "metadata": {},
   "source": [
    "#### Splitting the data"
   ]
  },
  {
   "cell_type": "code",
   "execution_count": 41,
   "id": "2e5ea736-4862-457e-b5b3-75bb3e2938cd",
   "metadata": {},
   "outputs": [],
   "source": [
    "def split_data(df, val_size=0.2, test_size=0.2):\n",
    "    n = len(df)\n",
    "    \n",
    "    n_val = int(n * val_size)\n",
    "    n_test = int(n * test_size)\n",
    "    n_train = n - n_val - n_test\n",
    "    \n",
    "    idx = np.arange(n)\n",
    "    np.random.shuffle(idx)\n",
    "\n",
    "    df_train = df.iloc[idx[:n_train]]\n",
    "    df_val = df.iloc[idx[n_train:n_train + n_val]]\n",
    "    df_test = df.iloc[idx[n_train + n_val:]]\n",
    "\n",
    "    df_train = df_train.reset_index(drop=True)\n",
    "    df_val = df_val.reset_index(drop=True)\n",
    "    df_test = df_test.reset_index(drop=True)\n",
    "\n",
    "    return df_train, df_val, df_test"
   ]
  },
  {
   "cell_type": "code",
   "execution_count": 42,
   "id": "2c153975-bf03-4aa0-a35f-26b4afb5f762",
   "metadata": {},
   "outputs": [],
   "source": [
    "df_train, df_val, df_test = split_data(df=df, val_size=0.2, test_size=0.2)"
   ]
  },
  {
   "cell_type": "code",
   "execution_count": 43,
   "id": "6b15849a-5b11-49d5-9d3c-46f74d377472",
   "metadata": {},
   "outputs": [],
   "source": [
    "def pull_y_out(df_train, df_val, df_test):\n",
    "    y_train = df_train.final_price.values\n",
    "    y_val = df_val.final_price.values\n",
    "    y_test = df_test.final_price.values\n",
    "    \n",
    "    del df_train['final_price']\n",
    "    del df_val['final_price']\n",
    "    del df_test['final_price']\n",
    "    return y_train, y_val, y_test"
   ]
  },
  {
   "cell_type": "code",
   "execution_count": 44,
   "id": "b9a2cb8d-4b98-4810-8258-db7585488c82",
   "metadata": {},
   "outputs": [],
   "source": [
    "y_train, y_val, y_test = pull_y_out(df_train, df_val, df_test)"
   ]
  },
  {
   "cell_type": "code",
   "execution_count": 45,
   "id": "8dcac4bb-86c0-4cb4-884a-65f8526538bb",
   "metadata": {},
   "outputs": [
    {
     "data": {
      "text/plain": [
       "(      ram  storage  screen\n",
       " 0      32     1000    15.6\n",
       " 1       4       64    14.1\n",
       " 2      32     1000    14.0\n",
       " 3      16      512    13.3\n",
       " 4      32     1000    16.0\n",
       " ...   ...      ...     ...\n",
       " 1291    8      256    14.0\n",
       " 1292   32     1000    16.0\n",
       " 1293   16      512    15.6\n",
       " 1294   16      512    14.0\n",
       " 1295   16      512    14.0\n",
       " \n",
       " [1296 rows x 3 columns],\n",
       " array([1123.29,  201.05,  997.74, ..., 1059.  , 1671.  , 1056.  ]))"
      ]
     },
     "execution_count": 45,
     "metadata": {},
     "output_type": "execute_result"
    }
   ],
   "source": [
    "df_train, y_train"
   ]
  },
  {
   "cell_type": "markdown",
   "id": "a19375f7-23b6-4adb-af2e-acecde628b48",
   "metadata": {},
   "source": [
    "## Preparing the data"
   ]
  },
  {
   "cell_type": "code",
   "execution_count": 46,
   "id": "4794a6f0-958c-4e83-b9ba-56aca774baa3",
   "metadata": {},
   "outputs": [
    {
     "data": {
      "text/plain": [
       "15.163534416086618"
      ]
     },
     "execution_count": 46,
     "metadata": {},
     "output_type": "execute_result"
    }
   ],
   "source": [
    "mean_screen = float(df_train['screen'].mean())\n",
    "mean_screen"
   ]
  },
  {
   "cell_type": "code",
   "execution_count": 47,
   "id": "d8a29e87-a688-4171-afb5-87a7152ff597",
   "metadata": {},
   "outputs": [
    {
     "data": {
      "text/plain": [
       "ram        0\n",
       "storage    0\n",
       "screen     3\n",
       "dtype: int64"
      ]
     },
     "execution_count": 47,
     "metadata": {},
     "output_type": "execute_result"
    }
   ],
   "source": [
    "df_train.isnull().sum(axis = 0)"
   ]
  },
  {
   "cell_type": "code",
   "execution_count": 48,
   "id": "e44cf4f9-8f30-4ef8-9e9a-b3a02b146940",
   "metadata": {},
   "outputs": [],
   "source": [
    "def prepare_X_zeros(df):\n",
    "    df = df.copy()\n",
    "    df['screen'] = df['screen'].fillna(0)\n",
    "    X = df.values\n",
    "    return X\n",
    "\n",
    "def prepare_X_mean(df):\n",
    "    df = df.copy()\n",
    "    df['screen'] = df['screen'].fillna(mean_screen)\n",
    "    X = df.values\n",
    "    return X"
   ]
  },
  {
   "cell_type": "markdown",
   "id": "bc483efb-b1da-4a1a-89b7-a5760f0d048e",
   "metadata": {},
   "source": [
    "## Training the model"
   ]
  },
  {
   "cell_type": "code",
   "execution_count": 49,
   "id": "f1a4b490-e42d-424a-879f-37e59dd89a3a",
   "metadata": {},
   "outputs": [],
   "source": [
    "def rmse(y, y_pred):\n",
    "\tse = (y-y_pred) ** 2\n",
    "\tmse = se.mean()\n",
    "\treturn float(np.sqrt(mse))"
   ]
  },
  {
   "cell_type": "code",
   "execution_count": 50,
   "id": "1851ac00-f20a-4ad0-840d-40526c57f326",
   "metadata": {},
   "outputs": [],
   "source": [
    "def train_linear_regression(X, y):\n",
    "\tones = np.ones(X.shape[0])\n",
    "\tX = np.column_stack([ones, X])\n",
    "\t\n",
    "\tXTX = X.T.dot(X)\n",
    "\tXTX_inv = np.linalg.inv(XTX)\n",
    "\tw = XTX_inv.dot(X.T).dot(y)\n",
    "\t\n",
    "\treturn w[0], w[1:]"
   ]
  },
  {
   "cell_type": "code",
   "execution_count": 51,
   "id": "d31f5912-0f3c-44d6-ace5-dfae41fbfdd5",
   "metadata": {},
   "outputs": [
    {
     "data": {
      "text/plain": [
       "597.36"
      ]
     },
     "execution_count": 51,
     "metadata": {},
     "output_type": "execute_result"
    }
   ],
   "source": [
    "X_train = prepare_X_zeros(df_train)\n",
    "w0, w = train_linear_regression(X_train, y_train)\n",
    "\n",
    "X_val = prepare_X_zeros(df_val)\n",
    "y_pred = w0 + X_val.dot(w)\n",
    "\n",
    "zeros_rmse = round(rmse(y_val, y_pred),2)\n",
    "zeros_rmse"
   ]
  },
  {
   "cell_type": "code",
   "execution_count": 52,
   "id": "e1024181-5248-4630-8176-fef110008d27",
   "metadata": {},
   "outputs": [
    {
     "data": {
      "text/plain": [
       "<Axes: ylabel='Count'>"
      ]
     },
     "execution_count": 52,
     "metadata": {},
     "output_type": "execute_result"
    },
    {
     "data": {
      "image/png": "[encoded data removed]",
      "text/plain": [
       "<Figure size 640x480 with 1 Axes>"
      ]
     },
     "metadata": {},
     "output_type": "display_data"
    }
   ],
   "source": [
    "sns.histplot(y_pred,  bins = 50, color='red', alpha=0.5) # alpha is transparancy\n",
    "sns.histplot(y_train,  bins = 50, color='blue',  alpha=0.5)#, alpha=0,5) "
   ]
  },
  {
   "cell_type": "code",
   "execution_count": 53,
   "id": "56810c5f-3495-4c1a-a88d-ba7799dc2a3a",
   "metadata": {},
   "outputs": [
    {
     "data": {
      "text/plain": [
       "600.27"
      ]
     },
     "execution_count": 53,
     "metadata": {},
     "output_type": "execute_result"
    }
   ],
   "source": [
    "X_train = prepare_X_mean(df_train)\n",
    "w0, w = train_linear_regression(X_train, y_train)\n",
    "\n",
    "X_val = prepare_X_mean(df_val)\n",
    "y_pred = w0 + X_val.dot(w)\n",
    "\n",
    "mean_rmse = round(rmse(y_val, y_pred),2)\n",
    "mean_rmse"
   ]
  },
  {
   "cell_type": "code",
   "execution_count": 54,
   "id": "5c431f11-5b2d-486c-b922-f1d4d606c14a",
   "metadata": {},
   "outputs": [
    {
     "data": {
      "text/plain": [
       "<Axes: ylabel='Count'>"
      ]
     },
     "execution_count": 54,
     "metadata": {},
     "output_type": "execute_result"
    },
    {
     "data": {
      "image/png": "[encoded data removed]",
      "text/plain": [
       "<Figure size 640x480 with 1 Axes>"
      ]
     },
     "metadata": {},
     "output_type": "display_data"
    }
   ],
   "source": [
    "sns.histplot(y_pred,  bins = 50, color='red', alpha=0.5) # alpha is transparancy\n",
    "sns.histplot(y_train,  bins = 50, color='blue',  alpha=0.5)#, alpha=0,5) "
   ]
  },
  {
   "cell_type": "markdown",
   "id": "3b4baeec-7142-416f-913e-4fefb38a92ee",
   "metadata": {},
   "source": [
    "#### Qustion 3: RMSE is smaller when we fill missing values with zeros"
   ]
  },
  {
   "cell_type": "code",
   "execution_count": 55,
   "id": "509c3eae-5f03-447c-9d25-a715b4012105",
   "metadata": {},
   "outputs": [],
   "source": [
    "def train_linear_regression_reg(X, y, r):\n",
    "    ones = np.ones(X.shape[0])\n",
    "    X_new = np.column_stack([ones, X])\n",
    "    XTX = X_new.T.dot(X_new)\n",
    "    XTX = XTX + r * np.eye(XTX.shape[0])    \n",
    "    \n",
    "    XTX_inv = np.linalg.inv(XTX)\n",
    "    w = XTX_inv.dot(X_new.T).dot(y)\n",
    "    \n",
    "    return w[0], w[1:]"
   ]
  },
  {
   "cell_type": "code",
   "execution_count": 56,
   "id": "157ec4ed-5966-4c1c-bfe0-04648c8274ed",
   "metadata": {},
   "outputs": [
    {
     "name": "stdout",
     "output_type": "stream",
     "text": [
      "r: 0, score: 597.36\n",
      "r: 0.01, score: 597.36\n",
      "r: 0.1, score: 597.35\n",
      "r: 1, score: 597.21\n",
      "r: 5, score: 597.01\n",
      "r: 10, score: 597.06\n",
      "r: 100, score: 597.9\n"
     ]
    }
   ],
   "source": [
    "X_train = prepare_X_zeros(df_train)\n",
    "for r in [0, 0.01, 0.1, 1, 5, 10, 100]:\n",
    "    w0, w = train_linear_regression_reg(X_train, y_train, r=r)\n",
    "    X_val = prepare_X_zeros(df_val)\n",
    "    y_pred = w0 + X_val.dot(w)\n",
    "    \n",
    "    score = round(rmse(y_val, y_pred),2)\n",
    "    print(f\"r: {r}, score: {score}\")"
   ]
  },
  {
   "cell_type": "markdown",
   "id": "f8c7700f-e78c-48ab-91a6-105a03681210",
   "metadata": {},
   "source": [
    "#### Qustion 4: Optimal r is r = 5, but out of provided answers the best r is r = 10"
   ]
  },
  {
   "cell_type": "code",
   "execution_count": 57,
   "id": "09a6e007-88f7-44fc-9487-d86c2dc128c6",
   "metadata": {},
   "outputs": [
    {
     "data": {
      "text/plain": [
       "[565.452,\n",
       " 636.799,\n",
       " 588.956,\n",
       " 597.815,\n",
       " 571.963,\n",
       " 573.238,\n",
       " 647.344,\n",
       " 550.44,\n",
       " 587.334,\n",
       " 576.102]"
      ]
     },
     "execution_count": 57,
     "metadata": {},
     "output_type": "execute_result"
    }
   ],
   "source": [
    "res = []\n",
    "for seed in [0, 1, 2, 3, 4, 5, 6, 7, 8, 9]:\n",
    "    np.random.seed(seed)\n",
    "    df_train, df_val, df_test = split_data(df=df, val_size=0.2, test_size=0.2)\n",
    "    y_train, y_val, y_test = pull_y_out(df_train, df_val, df_test)\n",
    "    \n",
    "    X_train = prepare_X_zeros(df_train)\n",
    "    w0, w = train_linear_regression(X_train, y_train)\n",
    "    \n",
    "    X_val = prepare_X_zeros(df_val)\n",
    "    y_pred = w0 + X_val.dot(w)\n",
    "    \n",
    "    score = round(rmse(y_val, y_pred),3)\n",
    "    res.append(score)\n",
    "\n",
    "res"
   ]
  },
  {
   "cell_type": "code",
   "execution_count": 58,
   "id": "1a2cc835-de13-40f4-badc-1cef36c354dd",
   "metadata": {},
   "outputs": [
    {
     "data": {
      "text/plain": [
       "29.177"
      ]
     },
     "execution_count": 58,
     "metadata": {},
     "output_type": "execute_result"
    }
   ],
   "source": [
    "STD = round(np.std(res),3)\n",
    "STD"
   ]
  },
  {
   "cell_type": "markdown",
   "id": "6957a2c5-5dca-4094-8765-37b5cf9a37de",
   "metadata": {},
   "source": [
    "#### Qustion 5: std = 29.177"
   ]
  },
  {
   "cell_type": "code",
   "execution_count": 59,
   "id": "1d86da0b-3e24-4e30-a1d7-7308959b77ec",
   "metadata": {},
   "outputs": [
    {
     "name": "stdout",
     "output_type": "stream",
     "text": [
      "Full training DF size: 1728\n"
     ]
    },
    {
     "data": {
      "text/html": [
       "<div>\n",
       "<style scoped>\n",
       "    .dataframe tbody tr th:only-of-type {\n",
       "        vertical-align: middle;\n",
       "    }\n",
       "\n",
       "    .dataframe tbody tr th {\n",
       "        vertical-align: top;\n",
       "    }\n",
       "\n",
       "    .dataframe thead th {\n",
       "        text-align: right;\n",
       "    }\n",
       "</style>\n",
       "<table border=\"1\" class=\"dataframe\">\n",
       "  <thead>\n",
       "    <tr style=\"text-align: right;\">\n",
       "      <th></th>\n",
       "      <th>ram</th>\n",
       "      <th>storage</th>\n",
       "      <th>screen</th>\n",
       "    </tr>\n",
       "  </thead>\n",
       "  <tbody>\n",
       "    <tr>\n",
       "      <th>0</th>\n",
       "      <td>32</td>\n",
       "      <td>1000</td>\n",
       "      <td>15.6</td>\n",
       "    </tr>\n",
       "    <tr>\n",
       "      <th>1</th>\n",
       "      <td>8</td>\n",
       "      <td>512</td>\n",
       "      <td>13.3</td>\n",
       "    </tr>\n",
       "    <tr>\n",
       "      <th>2</th>\n",
       "      <td>8</td>\n",
       "      <td>512</td>\n",
       "      <td>15.6</td>\n",
       "    </tr>\n",
       "    <tr>\n",
       "      <th>3</th>\n",
       "      <td>32</td>\n",
       "      <td>1000</td>\n",
       "      <td>17.3</td>\n",
       "    </tr>\n",
       "    <tr>\n",
       "      <th>4</th>\n",
       "      <td>16</td>\n",
       "      <td>1000</td>\n",
       "      <td>16.0</td>\n",
       "    </tr>\n",
       "  </tbody>\n",
       "</table>\n",
       "</div>"
      ],
      "text/plain": [
       "   ram  storage  screen\n",
       "0   32     1000    15.6\n",
       "1    8      512    13.3\n",
       "2    8      512    15.6\n",
       "3   32     1000    17.3\n",
       "4   16     1000    16.0"
      ]
     },
     "execution_count": 59,
     "metadata": {},
     "output_type": "execute_result"
    }
   ],
   "source": [
    "seed = 9\n",
    "np.random.seed(seed)\n",
    "df_train, df_val, df_test = split_data(df=df, val_size=0.2, test_size=0.2)\n",
    "y_train, y_val, y_test = pull_y_out(df_train, df_val, df_test)\n",
    "\n",
    "df_full_train = pd.concat([df_train, df_val])\n",
    "df_full_train = df_full_train.reset_index(drop=True)\n",
    "\n",
    "print(f\"Full training DF size: {len(df_full_train)}\")\n",
    "df_full_train.head()"
   ]
  },
  {
   "cell_type": "code",
   "execution_count": 60,
   "id": "c7d01cca-dbeb-4cd7-89fa-b53a7684b6e2",
   "metadata": {
    "scrolled": true
   },
   "outputs": [
    {
     "data": {
      "text/plain": [
       "608.61"
      ]
     },
     "execution_count": 60,
     "metadata": {},
     "output_type": "execute_result"
    }
   ],
   "source": [
    "X_full_train = prepare_X_zeros(df_full_train)\n",
    "y_full_train = np.concatenate([y_train, y_val])\n",
    "\n",
    "w0, w = train_linear_regression_reg(X_full_train, y_full_train, r==0.001)\n",
    "\n",
    "X_test = prepare_X_zeros(df_test)\n",
    "y_pred = w0 + X_test.dot(w)\n",
    "\n",
    "score = round(rmse(y_test, y_pred),3)\n",
    "score"
   ]
  },
  {
   "cell_type": "markdown",
   "id": "11476fab-1d37-4e0b-904e-cefd9466bdc7",
   "metadata": {},
   "source": [
    "#### Qustion 6: RMSE = 608.61"
   ]
  },
  {
   "cell_type": "code",
   "execution_count": 61,
   "id": "aa5f4b88-3238-4a7f-b468-07cd0f07f3f0",
   "metadata": {},
   "outputs": [
    {
     "name": "stdout",
     "output_type": "stream",
     "text": [
      "1.26.4\n"
     ]
    }
   ],
   "source": [
    "print(np.__version__)"
   ]
  },
  {
   "cell_type": "code",
   "execution_count": 62,
   "id": "7eaa90d7-69ab-4fae-b3a4-2fe52deb1e3f",
   "metadata": {},
   "outputs": [
    {
     "name": "stdout",
     "output_type": "stream",
     "text": [
      "3.11.10 (main, Oct  3 2024, 07:29:13) [GCC 11.2.0]\n"
     ]
    }
   ],
   "source": [
    "import sys\n",
    "print(sys.version)"
   ]
  },
  {
   "cell_type": "code",
   "execution_count": null,
   "id": "a309061d-81bf-41bb-be8c-d78531b5ea6e",
   "metadata": {},
   "outputs": [],
   "source": []
  },
  {
   "cell_type": "code",
   "execution_count": null,
   "id": "4d2bc601-9518-4558-9344-23d541aa2138",
   "metadata": {},
   "outputs": [],
   "source": []
  },
  {
   "cell_type": "code",
   "execution_count": null,
   "id": "5450ca01-5da3-4812-87f2-b8c5eecabe68",
   "metadata": {},
   "outputs": [],
   "source": []
  }
 ],
 "metadata": {
  "kernelspec": {
   "display_name": "ml-zoomcamp",
   "language": "python",
   "name": "ml-zoomcamp"
  },
  "language_info": {
   "codemirror_mode": {
    "name": "ipython",
    "version": 3
   },
   "file_extension": ".py",
   "mimetype": "text/x-python",
   "name": "python",
   "nbconvert_exporter": "python",
   "pygments_lexer": "ipython3",
   "version": "3.11.10"
  }
 },
 "nbformat": 4,
 "nbformat_minor": 5
}
